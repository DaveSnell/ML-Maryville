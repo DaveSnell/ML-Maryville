{
 "cells": [
  {
   "cell_type": "code",
   "execution_count": 1,
   "metadata": {
    "collapsed": true
   },
   "outputs": [],
   "source": [
    "# Artificial Neural Network\n",
    "\n",
    "# Installing Theano\n",
    "# pip install --upgrade --no-deps git+git://github.com/Theano/Theano.git\n",
    "\n",
    "# Installing Tensorflow\n",
    "# Install Tensorflow from the website: https://www.tensorflow.org/versions/r0.12/get_started/os_setup.html\n",
    "\n",
    "# Installing Keras\n",
    "# pip install --upgrade keras\n",
    "\n",
    "# Part 1 - Data Preprocessing\n",
    "\n",
    "# Importing the libraries\n",
    "import numpy as np\n",
    "import matplotlib.pyplot as plt\n",
    "import pandas as pd"
   ]
  },
  {
   "cell_type": "code",
   "execution_count": 2,
   "metadata": {
    "collapsed": true
   },
   "outputs": [],
   "source": [
    "# Importing the dataset\n",
    "dataset = pd.read_csv('data/Churn_Modelling.csv')\n",
    "X = dataset.iloc[:, 3:13].values\n",
    "y = dataset.iloc[:, 13].values"
   ]
  },
  {
   "cell_type": "code",
   "execution_count": 3,
   "metadata": {
    "collapsed": true
   },
   "outputs": [],
   "source": [
    "# Encoding categorical data\n",
    "from sklearn.preprocessing import LabelEncoder, OneHotEncoder\n",
    "labelencoder_X_1 = LabelEncoder()\n",
    "X[:, 1] = labelencoder_X_1.fit_transform(X[:, 1])\n",
    "labelencoder_X_2 = LabelEncoder()\n",
    "X[:, 2] = labelencoder_X_2.fit_transform(X[:, 2])\n",
    "onehotencoder = OneHotEncoder(categorical_features = [1])\n",
    "X = onehotencoder.fit_transform(X).toarray()\n",
    "X = X[:, 1:]"
   ]
  },
  {
   "cell_type": "code",
   "execution_count": 4,
   "metadata": {
    "collapsed": true
   },
   "outputs": [],
   "source": [
    "# Splitting the dataset into the Training set and Test set\n",
    "from sklearn.model_selection import train_test_split\n",
    "X_train, X_test, y_train, y_test = train_test_split(X, y, test_size = 0.2, random_state = 0)"
   ]
  },
  {
   "cell_type": "code",
   "execution_count": 5,
   "metadata": {
    "collapsed": true
   },
   "outputs": [],
   "source": [
    "# Feature Scaling\n",
    "from sklearn.preprocessing import StandardScaler\n",
    "sc = StandardScaler()\n",
    "X_train = sc.fit_transform(X_train)\n",
    "X_test = sc.transform(X_test)"
   ]
  },
  {
   "cell_type": "code",
   "execution_count": 6,
   "metadata": {},
   "outputs": [
    {
     "name": "stderr",
     "output_type": "stream",
     "text": [
      "Using TensorFlow backend.\n"
     ]
    }
   ],
   "source": [
    "# Part 2 - Now let's make the ANN!\n",
    "\n",
    "# Importing the Keras libraries and packages\n",
    "import keras\n",
    "from keras.models import Sequential\n",
    "from keras.layers import Dense"
   ]
  },
  {
   "cell_type": "code",
   "execution_count": 7,
   "metadata": {
    "collapsed": true
   },
   "outputs": [],
   "source": [
    "# Initialising the ANN\n",
    "classifier = Sequential()"
   ]
  },
  {
   "cell_type": "code",
   "execution_count": 8,
   "metadata": {
    "collapsed": true
   },
   "outputs": [],
   "source": [
    "# Adding the input layer and the first hidden layer\n",
    "classifier.add(Dense(activation=\"relu\", input_dim=11, units=6, kernel_initializer=\"uniform\"))"
   ]
  },
  {
   "cell_type": "code",
   "execution_count": 9,
   "metadata": {
    "collapsed": true
   },
   "outputs": [],
   "source": [
    "# Adding the second hidden layer\n",
    "classifier.add(Dense(activation=\"relu\", units=6, kernel_initializer=\"uniform\"))"
   ]
  },
  {
   "cell_type": "code",
   "execution_count": 10,
   "metadata": {
    "collapsed": true
   },
   "outputs": [],
   "source": [
    "# Adding the output layer\n",
    "classifier.add(Dense(activation=\"sigmoid\", units=1, kernel_initializer=\"uniform\"))"
   ]
  },
  {
   "cell_type": "code",
   "execution_count": 11,
   "metadata": {
    "collapsed": true
   },
   "outputs": [],
   "source": [
    "# Compiling the ANN\n",
    "classifier.compile(optimizer = 'adam', loss = 'binary_crossentropy', metrics = ['accuracy'])"
   ]
  },
  {
   "cell_type": "code",
   "execution_count": 12,
   "metadata": {
    "scrolled": false
   },
   "outputs": [
    {
     "name": "stdout",
     "output_type": "stream",
     "text": [
      "Epoch 1/100\n",
      "8000/8000 [==============================] - 1s - loss: 0.4845 - acc: 0.7960     \n",
      "Epoch 2/100\n",
      "8000/8000 [==============================] - 1s - loss: 0.4269 - acc: 0.7960     \n",
      "Epoch 3/100\n",
      "8000/8000 [==============================] - 1s - loss: 0.4212 - acc: 0.8009     \n",
      "Epoch 4/100\n",
      "8000/8000 [==============================] - 1s - loss: 0.4168 - acc: 0.8272     \n",
      "Epoch 5/100\n",
      "8000/8000 [==============================] - 1s - loss: 0.4134 - acc: 0.8300     \n",
      "Epoch 6/100\n",
      "8000/8000 [==============================] - 1s - loss: 0.4105 - acc: 0.8310     \n",
      "Epoch 7/100\n",
      "8000/8000 [==============================] - 1s - loss: 0.4087 - acc: 0.8329     \n",
      "Epoch 8/100\n",
      "8000/8000 [==============================] - 1s - loss: 0.4064 - acc: 0.8336     \n",
      "Epoch 9/100\n",
      "8000/8000 [==============================] - 1s - loss: 0.4044 - acc: 0.8357     \n",
      "Epoch 10/100\n",
      "8000/8000 [==============================] - 1s - loss: 0.4037 - acc: 0.8352     \n",
      "Epoch 11/100\n",
      "8000/8000 [==============================] - 1s - loss: 0.4024 - acc: 0.8342     \n",
      "Epoch 12/100\n",
      "8000/8000 [==============================] - 1s - loss: 0.4012 - acc: 0.8340     \n",
      "Epoch 13/100\n",
      "8000/8000 [==============================] - 2s - loss: 0.4009 - acc: 0.8341     \n",
      "Epoch 14/100\n",
      "8000/8000 [==============================] - 1s - loss: 0.4000 - acc: 0.8352     \n",
      "Epoch 15/100\n",
      "8000/8000 [==============================] - 1s - loss: 0.3991 - acc: 0.8347     \n",
      "Epoch 16/100\n",
      "8000/8000 [==============================] - 1s - loss: 0.3987 - acc: 0.8365     \n",
      "Epoch 17/100\n",
      "8000/8000 [==============================] - 1s - loss: 0.3984 - acc: 0.8347     \n",
      "Epoch 18/100\n",
      "8000/8000 [==============================] - 1s - loss: 0.3976 - acc: 0.8359     \n",
      "Epoch 19/100\n",
      "8000/8000 [==============================] - 1s - loss: 0.3977 - acc: 0.8351     \n",
      "Epoch 20/100\n",
      "8000/8000 [==============================] - 1s - loss: 0.3970 - acc: 0.8354     \n",
      "Epoch 21/100\n",
      "8000/8000 [==============================] - 1s - loss: 0.3970 - acc: 0.8354     \n",
      "Epoch 22/100\n",
      "8000/8000 [==============================] - 1s - loss: 0.3964 - acc: 0.8360     \n",
      "Epoch 23/100\n",
      "8000/8000 [==============================] - 1s - loss: 0.3961 - acc: 0.8366     \n",
      "Epoch 24/100\n",
      "8000/8000 [==============================] - 1s - loss: 0.3956 - acc: 0.8342     \n",
      "Epoch 25/100\n",
      "8000/8000 [==============================] - 1s - loss: 0.3958 - acc: 0.8376     \n",
      "Epoch 26/100\n",
      "8000/8000 [==============================] - 1s - loss: 0.3953 - acc: 0.8364     \n",
      "Epoch 27/100\n",
      "8000/8000 [==============================] - 1s - loss: 0.3950 - acc: 0.8367     \n",
      "Epoch 28/100\n",
      "8000/8000 [==============================] - 1s - loss: 0.3953 - acc: 0.8354     \n",
      "Epoch 29/100\n",
      "8000/8000 [==============================] - 1s - loss: 0.3950 - acc: 0.8364     \n",
      "Epoch 30/100\n",
      "8000/8000 [==============================] - 1s - loss: 0.3939 - acc: 0.8362     \n",
      "Epoch 31/100\n",
      "8000/8000 [==============================] - 1s - loss: 0.3947 - acc: 0.8355     \n",
      "Epoch 32/100\n",
      "8000/8000 [==============================] - 1s - loss: 0.3944 - acc: 0.8370     \n",
      "Epoch 33/100\n",
      "8000/8000 [==============================] - 1s - loss: 0.3941 - acc: 0.8356     \n",
      "Epoch 34/100\n",
      "8000/8000 [==============================] - 1s - loss: 0.3941 - acc: 0.8376     \n",
      "Epoch 35/100\n",
      "8000/8000 [==============================] - 1s - loss: 0.3947 - acc: 0.8347     \n",
      "Epoch 36/100\n",
      "8000/8000 [==============================] - 1s - loss: 0.3943 - acc: 0.8360     \n",
      "Epoch 37/100\n",
      "8000/8000 [==============================] - 1s - loss: 0.3937 - acc: 0.8370     \n",
      "Epoch 38/100\n",
      "8000/8000 [==============================] - 1s - loss: 0.3936 - acc: 0.8380     \n",
      "Epoch 39/100\n",
      "8000/8000 [==============================] - 1s - loss: 0.3941 - acc: 0.8371     \n",
      "Epoch 40/100\n",
      "8000/8000 [==============================] - 1s - loss: 0.3939 - acc: 0.8382     \n",
      "Epoch 41/100\n",
      "8000/8000 [==============================] - 1s - loss: 0.3943 - acc: 0.8356     - ETA: 1s -\n",
      "Epoch 42/100\n",
      "8000/8000 [==============================] - 1s - loss: 0.3941 - acc: 0.8365     \n",
      "Epoch 43/100\n",
      "8000/8000 [==============================] - 1s - loss: 0.3936 - acc: 0.8376     \n",
      "Epoch 44/100\n",
      "8000/8000 [==============================] - 1s - loss: 0.3938 - acc: 0.8360     \n",
      "Epoch 45/100\n",
      "8000/8000 [==============================] - 1s - loss: 0.3933 - acc: 0.8376     \n",
      "Epoch 46/100\n",
      "8000/8000 [==============================] - 1s - loss: 0.3930 - acc: 0.8370     \n",
      "Epoch 47/100\n",
      "8000/8000 [==============================] - 1s - loss: 0.3939 - acc: 0.8386     \n",
      "Epoch 48/100\n",
      "8000/8000 [==============================] - 1s - loss: 0.3939 - acc: 0.8379     \n",
      "Epoch 49/100\n",
      "8000/8000 [==============================] - 1s - loss: 0.3939 - acc: 0.8375     \n",
      "Epoch 50/100\n",
      "8000/8000 [==============================] - 1s - loss: 0.3933 - acc: 0.8376     \n",
      "Epoch 51/100\n",
      "8000/8000 [==============================] - 1s - loss: 0.3930 - acc: 0.8376     \n",
      "Epoch 52/100\n",
      "8000/8000 [==============================] - 1s - loss: 0.3931 - acc: 0.8376     \n",
      "Epoch 53/100\n",
      "8000/8000 [==============================] - 1s - loss: 0.3926 - acc: 0.8384     \n",
      "Epoch 54/100\n",
      "8000/8000 [==============================] - 1s - loss: 0.3923 - acc: 0.8380     \n",
      "Epoch 55/100\n",
      "8000/8000 [==============================] - 1s - loss: 0.3926 - acc: 0.8380     \n",
      "Epoch 56/100\n",
      "8000/8000 [==============================] - 1s - loss: 0.3923 - acc: 0.8370     \n",
      "Epoch 57/100\n",
      "8000/8000 [==============================] - 1s - loss: 0.3924 - acc: 0.8390     \n",
      "Epoch 58/100\n",
      "8000/8000 [==============================] - 1s - loss: 0.3918 - acc: 0.8387     \n",
      "Epoch 59/100\n",
      "8000/8000 [==============================] - 1s - loss: 0.3913 - acc: 0.8374     \n",
      "Epoch 60/100\n",
      "8000/8000 [==============================] - 1s - loss: 0.3912 - acc: 0.8394     \n",
      "Epoch 61/100\n",
      "8000/8000 [==============================] - 1s - loss: 0.3908 - acc: 0.8376     \n",
      "Epoch 62/100\n",
      "8000/8000 [==============================] - 1s - loss: 0.3904 - acc: 0.8385     \n",
      "Epoch 63/100\n",
      "8000/8000 [==============================] - 1s - loss: 0.3895 - acc: 0.8391     \n",
      "Epoch 64/100\n",
      "8000/8000 [==============================] - 1s - loss: 0.3885 - acc: 0.8385     \n",
      "Epoch 65/100\n",
      "8000/8000 [==============================] - 1s - loss: 0.3877 - acc: 0.8396     \n",
      "Epoch 66/100\n",
      "8000/8000 [==============================] - 1s - loss: 0.3852 - acc: 0.8397     \n",
      "Epoch 67/100\n",
      "8000/8000 [==============================] - 1s - loss: 0.3834 - acc: 0.8411     \n",
      "Epoch 68/100\n",
      "8000/8000 [==============================] - 1s - loss: 0.3806 - acc: 0.8405     \n",
      "Epoch 69/100\n",
      "8000/8000 [==============================] - 1s - loss: 0.3765 - acc: 0.8421     \n",
      "Epoch 70/100\n",
      "8000/8000 [==============================] - 1s - loss: 0.3718 - acc: 0.8421     \n",
      "Epoch 71/100\n",
      "8000/8000 [==============================] - 1s - loss: 0.3673 - acc: 0.8454     \n",
      "Epoch 72/100\n",
      "8000/8000 [==============================] - 1s - loss: 0.3647 - acc: 0.8496     \n",
      "Epoch 73/100\n",
      "8000/8000 [==============================] - 1s - loss: 0.3628 - acc: 0.8505     \n",
      "Epoch 74/100\n",
      "8000/8000 [==============================] - 1s - loss: 0.3616 - acc: 0.8521     \n",
      "Epoch 75/100\n",
      "8000/8000 [==============================] - 1s - loss: 0.3600 - acc: 0.8569     \n",
      "Epoch 76/100\n",
      "8000/8000 [==============================] - 1s - loss: 0.3585 - acc: 0.8557     \n",
      "Epoch 77/100\n",
      "8000/8000 [==============================] - 1s - loss: 0.3574 - acc: 0.8566     \n",
      "Epoch 78/100\n",
      "8000/8000 [==============================] - 1s - loss: 0.3557 - acc: 0.8559     \n",
      "Epoch 79/100\n",
      "8000/8000 [==============================] - 1s - loss: 0.3536 - acc: 0.8586     \n",
      "Epoch 80/100\n",
      "8000/8000 [==============================] - 1s - loss: 0.3530 - acc: 0.8594     \n",
      "Epoch 81/100\n",
      "8000/8000 [==============================] - 1s - loss: 0.3517 - acc: 0.8601     \n",
      "Epoch 82/100\n",
      "8000/8000 [==============================] - 1s - loss: 0.3502 - acc: 0.8600     \n",
      "Epoch 83/100\n",
      "8000/8000 [==============================] - 1s - loss: 0.3501 - acc: 0.8602     \n",
      "Epoch 84/100\n",
      "8000/8000 [==============================] - 1s - loss: 0.3495 - acc: 0.8609     \n",
      "Epoch 85/100\n",
      "8000/8000 [==============================] - 1s - loss: 0.3480 - acc: 0.8602     \n",
      "Epoch 86/100\n",
      "8000/8000 [==============================] - 1s - loss: 0.3484 - acc: 0.8601     \n",
      "Epoch 87/100\n"
     ]
    },
    {
     "name": "stdout",
     "output_type": "stream",
     "text": [
      "8000/8000 [==============================] - 0s - loss: 0.3476 - acc: 0.8601     \n",
      "Epoch 88/100\n",
      "8000/8000 [==============================] - 0s - loss: 0.3467 - acc: 0.8610     \n",
      "Epoch 89/100\n",
      "8000/8000 [==============================] - 0s - loss: 0.3470 - acc: 0.8601     \n",
      "Epoch 90/100\n",
      "8000/8000 [==============================] - 0s - loss: 0.3467 - acc: 0.8614     \n",
      "Epoch 91/100\n",
      "8000/8000 [==============================] - 0s - loss: 0.3465 - acc: 0.8605     \n",
      "Epoch 92/100\n",
      "8000/8000 [==============================] - 0s - loss: 0.3460 - acc: 0.8610     \n",
      "Epoch 93/100\n",
      "8000/8000 [==============================] - 0s - loss: 0.3456 - acc: 0.8606     \n",
      "Epoch 94/100\n",
      "8000/8000 [==============================] - 0s - loss: 0.3453 - acc: 0.8605     \n",
      "Epoch 95/100\n",
      "8000/8000 [==============================] - 0s - loss: 0.3451 - acc: 0.8620     \n",
      "Epoch 96/100\n",
      "8000/8000 [==============================] - 0s - loss: 0.3445 - acc: 0.8606     \n",
      "Epoch 97/100\n",
      "8000/8000 [==============================] - 0s - loss: 0.3439 - acc: 0.8621     \n",
      "Epoch 98/100\n",
      "8000/8000 [==============================] - 0s - loss: 0.3439 - acc: 0.8639     \n",
      "Epoch 99/100\n",
      "8000/8000 [==============================] - 0s - loss: 0.3426 - acc: 0.8637     \n",
      "Epoch 100/100\n",
      "8000/8000 [==============================] - 0s - loss: 0.3435 - acc: 0.8639     \n"
     ]
    },
    {
     "data": {
      "text/plain": [
       "<keras.callbacks.History at 0x7f1d6c254860>"
      ]
     },
     "execution_count": 12,
     "metadata": {},
     "output_type": "execute_result"
    }
   ],
   "source": [
    "# Fitting the ANN to the Training set\n",
    "classifier.fit(X_train, y_train, batch_size = 10, epochs = 100)"
   ]
  },
  {
   "cell_type": "code",
   "execution_count": 13,
   "metadata": {
    "collapsed": true
   },
   "outputs": [],
   "source": [
    "# Part 3 - Making the predictions and evaluating the model\n",
    "\n",
    "# Predicting the Test set results\n",
    "y_pred = classifier.predict(X_test)\n",
    "y_pred = (y_pred > 0.5)"
   ]
  },
  {
   "cell_type": "code",
   "execution_count": 14,
   "metadata": {
    "collapsed": true
   },
   "outputs": [],
   "source": [
    "# Making the Confusion Matrix\n",
    "from sklearn.metrics import confusion_matrix\n",
    "cm = confusion_matrix(y_test, y_pred)"
   ]
  },
  {
   "cell_type": "code",
   "execution_count": 15,
   "metadata": {},
   "outputs": [
    {
     "data": {
      "text/plain": [
       "array([[1528,   67],\n",
       "       [ 205,  200]])"
      ]
     },
     "execution_count": 15,
     "metadata": {},
     "output_type": "execute_result"
    }
   ],
   "source": [
    "cm"
   ]
  },
  {
   "cell_type": "code",
   "execution_count": 16,
   "metadata": {},
   "outputs": [
    {
     "data": {
      "text/plain": [
       "0.8415"
      ]
     },
     "execution_count": 16,
     "metadata": {},
     "output_type": "execute_result"
    }
   ],
   "source": [
    "(1558 + 125)/2000  # compute the accuracy"
   ]
  },
  {
   "cell_type": "code",
   "execution_count": null,
   "metadata": {
    "collapsed": true
   },
   "outputs": [],
   "source": []
  }
 ],
 "metadata": {
  "kernelspec": {
   "display_name": "Python 3",
   "language": "python",
   "name": "python3"
  },
  "language_info": {
   "codemirror_mode": {
    "name": "ipython",
    "version": 3
   },
   "file_extension": ".py",
   "mimetype": "text/x-python",
   "name": "python",
   "nbconvert_exporter": "python",
   "pygments_lexer": "ipython3",
   "version": "3.6.3"
  }
 },
 "nbformat": 4,
 "nbformat_minor": 2
}
