{
 "cells": [
  {
   "cell_type": "markdown",
   "metadata": {},
   "source": [
    "Statistics for Machine Learning By: Pratap Dangeti Publisher: Packt Publishing Pub. Date: July 21, 2017 Web ISBN-13: 978-1-78829-122-4 Print ISBN-13: 978-1-78829-575-8 Pages in Print Edition: 442"
   ]
  },
  {
   "cell_type": "code",
   "execution_count": 1,
   "metadata": {
    "collapsed": true
   },
   "outputs": [],
   "source": [
    "rm(list = ls())\n",
    "\n",
    "# First change the following directory link to where all the input files do exist\n",
    "setwd(\"C:\\\\dls\\\\Machine Learning\\\\data\")"
   ]
  },
  {
   "cell_type": "code",
   "execution_count": 2,
   "metadata": {},
   "outputs": [
    {
     "name": "stdout",
     "output_type": "stream",
     "text": [
      "[1] 4.33\n",
      "[1] 4\n",
      "[1] 2\n"
     ]
    },
    {
     "data": {
      "text/plain": [
       "Time difference of 0.01302004 secs"
      ]
     },
     "metadata": {},
     "output_type": "display_data"
    }
   ],
   "source": [
    "startTime <- Sys.time()\n",
    "data <- c(4,5,1,2,7,2,6,9,3)\n",
    "\n",
    "# Calculate Mean\n",
    "dt_mean = mean(data) ; print(round(dt_mean,2))\n",
    "\n",
    "# Calculate Median\n",
    "dt_median = median(data); print(dt_median)\n",
    "\n",
    "# Calculate Mode\n",
    "func_mode <- function(input_dt){\n",
    "  unq <- unique(input_dt)\n",
    "  unq[which.max(tabulate(match(input_dt,unq)))]\n",
    "}\n",
    "\n",
    "dt_mode = func_mode(data); print(dt_mode)\n",
    "endTime <- Sys.time()\n",
    "timeTaken <- endTime - startTime\n",
    "timeTaken"
   ]
  },
  {
   "cell_type": "code",
   "execution_count": 3,
   "metadata": {},
   "outputs": [
    {
     "name": "stdout",
     "output_type": "stream",
     "text": [
      "[1] 400.64\n",
      "[1] 20.02\n",
      "[1] 69\n",
      " 20%  80% 100% \n",
      "39.8 77.4 93.0 \n",
      "[1] 28.5\n"
     ]
    },
    {
     "data": {
      "text/plain": [
       "Time difference of 0.01902795 secs"
      ]
     },
     "metadata": {},
     "output_type": "display_data"
    }
   ],
   "source": [
    "startTime <- Sys.time()\n",
    "# Descriptive statistics - dispersion\n",
    "game_points <- c(35,56,43,59,63,79,35,41,64,43,93,60,77,24,82)\n",
    "\n",
    "# Calculation Variance\n",
    "dt_var = var(game_points); print(round(dt_var,2))\n",
    "\n",
    "# Calculation Standard Deviation\n",
    "dt_std = sd(game_points); print(round(dt_std,2))\n",
    "\n",
    "# Calculation Range\n",
    "range_val<-function(x) return(diff(range(x))) \n",
    "dt_range = range_val(game_points); print(dt_range)\n",
    "\n",
    "# Calculation Quantiles\n",
    "dt_quantile = quantile(game_points,probs = c(0.2,0.8,1.0)); print(dt_quantile)\n",
    "\n",
    "# Calculation Inter quartile range\n",
    "dt_iqr = IQR(game_points); print(dt_iqr)\n",
    "endTime <- Sys.time()\n",
    "timeTaken <- endTime - startTime\n",
    "timeTaken"
   ]
  },
  {
   "cell_type": "code",
   "execution_count": 4,
   "metadata": {},
   "outputs": [
    {
     "name": "stdout",
     "output_type": "stream",
     "text": [
      "[1] -4.38\n",
      "[1] -1.699\n",
      "[1] 7.035026e-05\n",
      "[1] \"Prob. to score more than 67 is  17.87 %\"\n"
     ]
    },
    {
     "data": {
      "text/plain": [
       "Time difference of 0.02203393 secs"
      ]
     },
     "metadata": {},
     "output_type": "display_data"
    }
   ],
   "source": [
    "# Hypothesis testing\n",
    "\n",
    "startTime <- Sys.time()\n",
    "xbar = 990; mu0 = 1000; s = 12.5 ; n = 30\n",
    "t_smple = (xbar - mu0)/(s/sqrt(n));print (round(t_smple,2))\n",
    "\n",
    "alpha = 0.05\n",
    "t_alpha = qt(alpha,df= n-1);print (round(t_alpha,3))\n",
    "\n",
    "p_val = pt(t_smple,df = n-1);print (p_val)\n",
    "\n",
    "\n",
    "\n",
    "# Normal Distribution\n",
    "xbar = 67; mu0 = 52; s = 16.3\n",
    "\n",
    "# Normal distribution\n",
    "# P (Z >= (x-mu)/sigma) \n",
    "# F(x) = P(X <= x)\n",
    "pr = 1- pnorm(67, mean=52, sd=16.3)\n",
    "print(paste(\"Prob. to score more than 67 is \",round(pr*100,2),\"%\"))\n",
    "endTime <- Sys.time()\n",
    "timeTaken <- endTime - startTime\n",
    "timeTaken"
   ]
  },
  {
   "cell_type": "code",
   "execution_count": 5,
   "metadata": {},
   "outputs": [
    {
     "name": "stderr",
     "output_type": "stream",
     "text": [
      "Warning message in chisq.test(tbl):\n",
      "\"Chi-squared approximation may be incorrect\""
     ]
    },
    {
     "name": "stdout",
     "output_type": "stream",
     "text": [
      "[1] \"P-value is : 0.483\"\n"
     ]
    },
    {
     "data": {
      "text/plain": [
       "Time difference of 0.01403093 secs"
      ]
     },
     "metadata": {},
     "output_type": "display_data"
    }
   ],
   "source": [
    "# Chi-square independence test\n",
    "startTime <- Sys.time()\n",
    "survey = read.csv(\"survey.csv\",header=TRUE)\n",
    "\n",
    "tbl = table(survey$Smoke,survey$Exer)\n",
    "p_val = chisq.test(tbl)\n",
    "\n",
    "print(paste(\"P-value is :\",round(p_val$p.value,3)))\n",
    "endTime <- Sys.time()\n",
    "timeTaken <- endTime - startTime\n",
    "timeTaken"
   ]
  },
  {
   "cell_type": "code",
   "execution_count": 6,
   "metadata": {},
   "outputs": [
    {
     "name": "stdout",
     "output_type": "stream",
     "text": [
      "            Df Sum Sq Mean Sq F value Pr(>F)  \n",
      "tm           2   2155  1077.6   4.959 0.0319 *\n",
      "blk          5   2239   447.8   2.061 0.1547  \n",
      "Residuals   10   2173   217.3                 \n",
      "---\n",
      "Signif. codes:  0 '***' 0.001 '**' 0.01 '*' 0.05 '.' 0.1 ' ' 1\n"
     ]
    },
    {
     "data": {
      "text/plain": [
       "Time difference of 0.02003098 secs"
      ]
     },
     "metadata": {},
     "output_type": "display_data"
    }
   ],
   "source": [
    "#ANOVA\n",
    "startTime <- Sys.time()\n",
    "fetilizers = read.csv(\"fetilizers.csv\",header=TRUE)\n",
    "\n",
    "# Concatenate data rows into single vector\n",
    "r = c(t(as.matrix(fetilizers)))\n",
    "f = c(\"fertilizer1\",\"fertilizer2\",\"fertilizer3\")\n",
    "k = 3; n = 6\n",
    "\n",
    "tm = gl(k,1,n*k,factor(f))\n",
    "blk = gl(n,k,k*n)\n",
    "av = aov(r ~ tm + blk)\n",
    "\n",
    "smry = summary(av)\n",
    "print(smry)\n",
    "endTime <- Sys.time()\n",
    "timeTaken <- endTime - startTime\n",
    "timeTaken"
   ]
  },
  {
   "cell_type": "code",
   "execution_count": 7,
   "metadata": {},
   "outputs": [
    {
     "data": {
      "text/html": [
       "<dl class=dl-horizontal>\n",
       "\t<dt>(Intercept)</dt>\n",
       "\t\t<dd>30.0988605396225</dd>\n",
       "\t<dt>hp</dt>\n",
       "\t\t<dd>-0.0682282780715636</dd>\n",
       "</dl>\n"
      ],
      "text/latex": [
       "\\begin{description*}\n",
       "\\item[(Intercept)] 30.0988605396225\n",
       "\\item[hp] -0.0682282780715636\n",
       "\\end{description*}\n"
      ],
      "text/markdown": [
       "(Intercept)\n",
       ":   30.0988605396225hp\n",
       ":   -0.0682282780715636\n",
       "\n"
      ],
      "text/plain": [
       "(Intercept)          hp \n",
       "30.09886054 -0.06822828 "
      ]
     },
     "metadata": {},
     "output_type": "display_data"
    },
    {
     "name": "stdout",
     "output_type": "stream",
     "text": [
      "(Intercept)          hp \n",
      "30.09886054 -0.06822828 \n"
     ]
    },
    {
     "data": {
      "text/html": [
       "'Iterations: 1145347 Optimal intercept: 30.0249510690729 Optimal slope: -0.0678124294226676'"
      ],
      "text/latex": [
       "'Iterations: 1145347 Optimal intercept: 30.0249510690729 Optimal slope: -0.0678124294226676'"
      ],
      "text/markdown": [
       "'Iterations: 1145347 Optimal intercept: 30.0249510690729 Optimal slope: -0.0678124294226676'"
      ],
      "text/plain": [
       "[1] \"Iterations: 1145347 Optimal intercept: 30.0249510690729 Optimal slope: -0.0678124294226676\""
      ]
     },
     "metadata": {},
     "output_type": "display_data"
    },
    {
     "data": {
      "text/plain": [
       "Time difference of 3.00725 secs"
      ]
     },
     "metadata": {},
     "output_type": "display_data"
    },
    {
     "data": {
      "image/png": "[encoded data removed]",
      "text/plain": [
       "plot without title"
      ]
     },
     "metadata": {},
     "output_type": "display_data"
    }
   ],
   "source": [
    "# Linear Regression vs. Gradient descent\n",
    "\n",
    "train_data = read.csv(\"mtcars.csv\",header=TRUE)\n",
    "\n",
    "attach(train_data)\n",
    "plot(hp, mpg, col = \"blue\", pch = 20)\n",
    "\n",
    "\n",
    "# Linear Regression\n",
    "model <- lm(mpg ~ hp, data = train_data)\n",
    "coef(model)\n",
    "\n",
    "abline(model)\n",
    "mtext(paste('y =', round(coef(model)[[2]],3), '* x', '+', round( coef(model)[[1]],2)))\n",
    "\n",
    "\n",
    "rm(list = ls())\n",
    "startTime <- Sys.time()\n",
    "\n",
    "# Linear Regression\n",
    "train_data = read.csv(\"mtcars.csv\",header=TRUE)\n",
    "model <- lm(mpg ~ hp, data = train_data)\n",
    "print (coef(model))\n",
    "\n",
    "\n",
    "# Gradient descent\n",
    "gradDesc <- function(x, y, learn_rate, conv_threshold, batch_size, max_iter) {\n",
    "  m <- runif(1, 0, 1)\n",
    "  c <- runif(1, 0, 1)\n",
    "  ypred <- m * x + c\n",
    "  MSE <- sum((y - ypred) ^ 2) / batch_size\n",
    "  \n",
    "  converged = F\n",
    "  iterations = 0\n",
    "  \n",
    "  while(converged == F) {\n",
    "    m_new <- m - learn_rate * ((1 / batch_size) * (sum((ypred - y) * x)))\n",
    "    c_new <- c - learn_rate * ((1 / batch_size) * (sum(ypred - y)))\n",
    "    \n",
    "    m <- m_new\n",
    "    c <- c_new\n",
    "    ypred <- m * x + c\n",
    "    MSE_new <- sum((y - ypred) ^ 2) / batch_size\n",
    "    \n",
    "    if(MSE - MSE_new <= conv_threshold) {\n",
    "      converged = T\n",
    "      return(paste(\"Iterations:\",iterations,\"Optimal intercept:\", c, \"Optimal slope:\", m))\n",
    "    }\n",
    "    \n",
    "    iterations = iterations + 1\n",
    "    \n",
    "    if(iterations > max_iter) { \n",
    "      converged = T\n",
    "      return(paste(\"Iterations:\",iterations,\"Optimal intercept:\", c, \"Optimal slope:\", m))\n",
    "    }\n",
    "    \n",
    "    MSE = MSE_new\n",
    "  }\n",
    "}\n",
    "\n",
    "gradDesc(x = hp,y =  mpg, learn_rate = 0.00003, conv_threshold = 1e-8, batch_size = 32, max_iter = 1500000)\n",
    "endTime <- Sys.time()\n",
    "timeTaken <- endTime - startTime\n",
    "timeTaken"
   ]
  },
  {
   "cell_type": "code",
   "execution_count": 8,
   "metadata": {},
   "outputs": [
    {
     "data": {
      "text/plain": [
       "Time difference of 0.02403522 secs"
      ]
     },
     "metadata": {},
     "output_type": "display_data"
    }
   ],
   "source": [
    "# Train & Test samples\n",
    "startTime <- Sys.time()\n",
    "full_data = read.csv(\"mtcars.csv\",header=TRUE)\n",
    "\n",
    "set.seed(123)\n",
    "numrow = nrow(full_data)\n",
    "trnind = sample(1:numrow,size = as.integer(0.7*numrow))\n",
    "\n",
    "train_data = full_data[trnind,]\n",
    "test_data = full_data[-trnind,]\n",
    "\n",
    "\n",
    "# Train Validation & Test samples\n",
    "trvaltest <- function(dat,prop = c(0.5,0.25,0.25)){\n",
    "  nrw = nrow(dat)\n",
    "  trnr = as.integer(nrw *prop[1])\n",
    "  vlnr = as.integer(nrw*prop[2])\n",
    "  set.seed(123)\n",
    "  trni = sample(1:nrow(dat),trnr)\n",
    "  trndata = dat[trni,]\n",
    "  rmng = dat[-trni,]\n",
    "  vlni = sample(1:nrow(rmng),vlnr)\n",
    "  valdata = rmng[vlni,]\n",
    "  tstdata = rmng[-vlni,]\n",
    "  mylist = list(\"trn\" = trndata,\"val\"= valdata,\"tst\" = tstdata)\n",
    "  return(mylist)\n",
    "}\n",
    "\n",
    "outdata = trvaltest(mtcars,prop = c(0.5,0.25,0.25))\n",
    "train_data = outdata$trn;valid_data = outdata$val;test_data = outdata$tst\n",
    "endTime <- Sys.time()\n",
    "timeTaken <- endTime - startTime\n",
    "timeTaken"
   ]
  },
  {
   "cell_type": "code",
   "execution_count": 11,
   "metadata": {},
   "outputs": [
    {
     "name": "stdout",
     "output_type": "stream",
     "text": [
      "[1] \"Best Score\"\n",
      "[1] \"Train Accuracy  0.971 Test Accuracy 0.965\"\n",
      "[1] \" Min split  2  Min obs per node  1\"\n",
      "[1] \"Confusion matrix on test data\"\n",
      "   tr_predtst\n",
      "      0   1\n",
      "  0 832   7\n",
      "  1  27 118\n",
      "[1] \"Precision_0:  0.969 Precision_1:  0.944\"\n",
      "[1] \"Recall_0:  0.992 Recall_1:  0.814\"\n"
     ]
    },
    {
     "data": {
      "text/plain": [
       "Time difference of 59.64115 secs"
      ]
     },
     "metadata": {},
     "output_type": "display_data"
    }
   ],
   "source": [
    "# Grid Search on Decision Trees\n",
    "startTime <- Sys.time()\n",
    "library(rpart)\n",
    "input_data = read.csv(\"ad.csv\",header=FALSE)\n",
    "input_data$V1559 = as.factor(input_data$V1559)\n",
    "set.seed(123)\n",
    "numrow = nrow(input_data)\n",
    "trnind = sample(1:numrow,size = as.integer(0.7*numrow))\n",
    "\n",
    "train_data = input_data[trnind,];test_data = input_data[-trnind,]\n",
    "minspset = c(2,3);minobset = c(1,2,3)\n",
    "initacc = 0\n",
    "\n",
    "for (minsp in minspset){\n",
    "  for (minob in minobset){\n",
    "    tr_fit = rpart(V1559 ~.,data = train_data,method = \"class\",minsplit = minsp, minbucket = minob)\n",
    "    tr_predt = predict(tr_fit,newdata = train_data,type = \"class\")\n",
    "    tble = table(tr_predt,train_data$V1559)\n",
    "    acc = (tble[1,1]+tble[2,2])/sum(tble)\n",
    "    acc\n",
    "    if (acc > initacc){\n",
    "      tr_predtst = predict(tr_fit,newdata = test_data,type = \"class\")\n",
    "      tblet = table(test_data$V1559,tr_predtst)\n",
    "      acct = (tblet[1,1]+tblet[2,2])/sum(tblet)\n",
    "      acct\n",
    "      print(paste(\"Best Score\"))\n",
    "      print( paste(\"Train Accuracy \",round(acc,3),\"Test Accuracy\",round(acct,3)))\n",
    "      print( paste(\" Min split \",minsp,\" Min obs per node \",minob))\n",
    "      print(paste(\"Confusion matrix on test data\"))\n",
    "      print(tblet)\n",
    "      precsn_0 = (tblet[1,1])/(tblet[1,1]+tblet[2,1])\n",
    "      precsn_1 = (tblet[2,2])/(tblet[1,2]+tblet[2,2])\n",
    "      print(paste(\"Precision_0: \",round(precsn_0,3),\"Precision_1: \",round(precsn_1,3)))\n",
    "      rcall_0 = (tblet[1,1])/(tblet[1,1]+tblet[1,2])\n",
    "      rcall_1 = (tblet[2,2])/(tblet[2,1]+tblet[2,2])\n",
    "      print(paste(\"Recall_0: \",round(rcall_0,3),\"Recall_1: \",round(rcall_1,3)))\n",
    "      initacc = acc\n",
    "    }\n",
    "  }\n",
    "}\n",
    "endTime <- Sys.time()\n",
    "timeTaken <- endTime - startTime\n",
    "timeTaken"
   ]
  },
  {
   "cell_type": "code",
   "execution_count": null,
   "metadata": {
    "collapsed": true
   },
   "outputs": [],
   "source": []
  }
 ],
 "metadata": {
  "kernelspec": {
   "display_name": "R",
   "language": "R",
   "name": "ir"
  },
  "language_info": {
   "codemirror_mode": "r",
   "file_extension": ".r",
   "mimetype": "text/x-r-source",
   "name": "R",
   "pygments_lexer": "r",
   "version": "3.4.1"
  }
 },
 "nbformat": 4,
 "nbformat_minor": 2
}
