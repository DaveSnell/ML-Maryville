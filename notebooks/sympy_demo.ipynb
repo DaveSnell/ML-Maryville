{
 "cells": [
  {
   "cell_type": "code",
   "execution_count": 1,
   "metadata": {
    "collapsed": true
   },
   "outputs": [],
   "source": [
    "from sympy import *\n",
    "from IPython.display import display\n",
    "from sympy.printing.mathml import mathml\n",
    "from IPython.display import display, Math, Latex\n",
    "\n",
    "x, y, z = symbols('x y z')\n",
    "init_printing(use_unicode=True)"
   ]
  },
  {
   "cell_type": "code",
   "execution_count": 2,
   "metadata": {
    "collapsed": true
   },
   "outputs": [],
   "source": [
    "def mprint(e):\n",
    "    display(Math(latex(e)))"
   ]
  },
  {
   "cell_type": "code",
   "execution_count": 3,
   "metadata": {
    "collapsed": true
   },
   "outputs": [],
   "source": [
    "expr = (x**3 + x**2 - x -1)/(x**2 + 2*x +1)"
   ]
  },
  {
   "cell_type": "code",
   "execution_count": 4,
   "metadata": {},
   "outputs": [
    {
     "name": "stdout",
     "output_type": "stream",
     "text": [
      "<class 'sympy.core.mul.Mul'>\n"
     ]
    }
   ],
   "source": [
    "print(type(expr))"
   ]
  },
  {
   "cell_type": "code",
   "execution_count": null,
   "metadata": {
    "collapsed": true
   },
   "outputs": [],
   "source": [
    "mprint(expr)"
   ]
  },
  {
   "cell_type": "code",
   "execution_count": 6,
   "metadata": {},
   "outputs": [
    {
     "data": {
      "text/latex": [
       "$$x - 1$$"
      ],
      "text/plain": [
       "<IPython.core.display.Math object>"
      ]
     },
     "metadata": {},
     "output_type": "display_data"
    }
   ],
   "source": [
    "expr = simplify(expr)\n",
    "mprint(expr)"
   ]
  },
  {
   "cell_type": "code",
   "execution_count": 7,
   "metadata": {},
   "outputs": [
    {
     "name": "stdout",
     "output_type": "stream",
     "text": [
      "4\n"
     ]
    }
   ],
   "source": [
    "print(expr.subs(x,5))"
   ]
  },
  {
   "cell_type": "code",
   "execution_count": 8,
   "metadata": {
    "collapsed": true
   },
   "outputs": [],
   "source": [
    "eql = Eq(3*x+5,10)"
   ]
  },
  {
   "cell_type": "code",
   "execution_count": 9,
   "metadata": {},
   "outputs": [
    {
     "data": {
      "text/latex": [
       "$$\\left\\{\\frac{5}{3}\\right\\}$$"
      ],
      "text/plain": [
       "<IPython.core.display.Math object>"
      ]
     },
     "metadata": {},
     "output_type": "display_data"
    }
   ],
   "source": [
    "z = solveset(eql,x)\n",
    "display(Math(latex(z)))"
   ]
  },
  {
   "cell_type": "code",
   "execution_count": 10,
   "metadata": {},
   "outputs": [
    {
     "data": {
      "text/latex": [
       "$$\\frac{1}{x^{2}} \\cos{\\left (x \\right )} - \\frac{2}{x^{3}} \\sin{\\left (x \\right )}$$"
      ],
      "text/plain": [
       "<IPython.core.display.Math object>"
      ]
     },
     "metadata": {},
     "output_type": "display_data"
    }
   ],
   "source": [
    "x, y, z = symbols('x y z')\n",
    "init_printing(use_unicode=True)\n",
    "expr = diff(sin(x)/x**2, x)\n",
    "mprint(expr)"
   ]
  },
  {
   "cell_type": "code",
   "execution_count": 11,
   "metadata": {},
   "outputs": [
    {
     "data": {
      "text/latex": [
       "$$\\frac{1}{x^{2}} \\sin{\\left (x \\right )}$$"
      ],
      "text/plain": [
       "<IPython.core.display.Math object>"
      ]
     },
     "metadata": {},
     "output_type": "display_data"
    }
   ],
   "source": [
    "expr_i = integrate(expr, x)\n",
    "mprint(expr_i)"
   ]
  },
  {
   "cell_type": "code",
   "execution_count": 16,
   "metadata": {},
   "outputs": [
    {
     "data": {
      "text/latex": [
       "$$\\sqrt{- 2 a^{2} c + b^{2}} = 0$$"
      ],
      "text/plain": [
       "<IPython.core.display.Math object>"
      ]
     },
     "metadata": {},
     "output_type": "display_data"
    }
   ],
   "source": [
    "a, b, c = symbols('a b c')\n",
    "SSE = Eq(sqrt(b**2-4*a*c/2*a))\n",
    "mprint(SSE)"
   ]
  },
  {
   "cell_type": "code",
   "execution_count": 21,
   "metadata": {},
   "outputs": [
    {
     "name": "stdout",
     "output_type": "stream",
     "text": [
      "42\n"
     ]
    },
    {
     "data": {
      "text/latex": [
       "$$\\sum_{i=1}^{3} x_{i}$$"
      ],
      "text/plain": [
       "<IPython.core.display.Math object>"
      ]
     },
     "metadata": {},
     "output_type": "display_data"
    }
   ],
   "source": [
    "x, i = symbols('x i')\n",
    "s=Sum(Indexed('x',i),(i,1,3))\n",
    "f = lambda x: Subs(s.doit(), [s.function.subs(s.variables[0], j)\n",
    "for j in range(s.limits[0][1], s.limits[0][2] + 1)], x).doit() \n",
    "print(f((30,10,2)))\n",
    "mprint(s)"
   ]
  },
  {
   "cell_type": "code",
   "execution_count": 45,
   "metadata": {},
   "outputs": [
    {
     "data": {
      "image/png": "[encoded data removed]",
      "text/latex": [
       "$$\\dot{\\bar{\\vec{\\hat{x}}}}$$"
      ],
      "text/plain": [
       "x̂⃗̅̇"
      ]
     },
     "execution_count": 45,
     "metadata": {},
     "output_type": "execute_result"
    }
   ],
   "source": [
    "Symbol('xhatvecbardot')"
   ]
  },
  {
   "cell_type": "code",
   "execution_count": 47,
   "metadata": {},
   "outputs": [
    {
     "data": {
      "image/png": "[encoded data removed]",
      "text/latex": [
       "$$\\vec{\\bar{\\hat{\\dot{x}}}}$$"
      ],
      "text/plain": [
       "ẋ̂̅⃗"
      ]
     },
     "execution_count": 47,
     "metadata": {},
     "output_type": "execute_result"
    }
   ],
   "source": [
    "Symbol('xdothatbarvec')"
   ]
  },
  {
   "cell_type": "code",
   "execution_count": 46,
   "metadata": {},
   "outputs": [
    {
     "data": {
      "text/latex": [
       "$$\\hat{y}$$"
      ],
      "text/plain": [
       "<IPython.core.display.Math object>"
      ]
     },
     "metadata": {},
     "output_type": "display_data"
    },
    {
     "name": "stdout",
     "output_type": "stream",
     "text": [
      "Eq((-ybar + yhat)**2, 0)\n"
     ]
    },
    {
     "data": {
      "text/latex": [
       "$$\\left(- \\bar{y} + \\hat{y}\\right)^{2} = 0$$"
      ],
      "text/plain": [
       "<IPython.core.display.Math object>"
      ]
     },
     "metadata": {},
     "output_type": "display_data"
    },
    {
     "data": {
      "text/latex": [
       "$$\\left(\\bar{y} - \\hat{y}\\right)^{2} = 0$$"
      ],
      "text/plain": [
       "<IPython.core.display.Math object>"
      ]
     },
     "metadata": {},
     "output_type": "display_data"
    }
   ],
   "source": [
    "yhat, ybar = symbols('yhat ybar')\n",
    "yhat = Symbol('yhat')\n",
    "ybar = Symbol('ybar')\n",
    "mprint(yhat)\n",
    "er = Eq((yhat - ybar)**2)\n",
    "print(er)\n",
    "mprint(er)\n",
    "\n",
    "er = Eq((ybar - yhat)**2)\n",
    "mprint(er)"
   ]
  },
  {
   "cell_type": "code",
   "execution_count": 48,
   "metadata": {},
   "outputs": [
    {
     "ename": "SyntaxError",
     "evalue": "unexpected character after line continuation character (<ipython-input-48-b6636b650c0e>, line 1)",
     "output_type": "error",
     "traceback": [
      "\u001b[0;36m  File \u001b[0;32m\"<ipython-input-48-b6636b650c0e>\"\u001b[0;36m, line \u001b[0;32m1\u001b[0m\n\u001b[0;31m    \\int_{-\\infty}^\\infty\\int_{-\\infty}^\\infty e^{-x^2-y^2}\\, dxdy\u001b[0m\n\u001b[0m                                                                  ^\u001b[0m\n\u001b[0;31mSyntaxError\u001b[0m\u001b[0;31m:\u001b[0m unexpected character after line continuation character\n"
     ]
    }
   ],
   "source": [
    "\\int_{-\\infty}^\\infty\\int_{-\\infty}^\\infty e^{-x^2-y^2}\\, dxdy"
   ]
  },
  {
   "cell_type": "code",
   "execution_count": 53,
   "metadata": {},
   "outputs": [
    {
     "ename": "NameError",
     "evalue": "name '__file__' is not defined",
     "output_type": "error",
     "traceback": [
      "\u001b[0;31m---------------------------------------------------------------------------\u001b[0m",
      "\u001b[0;31mNameError\u001b[0m                                 Traceback (most recent call last)",
      "\u001b[0;32m<ipython-input-53-811191ee9042>\u001b[0m in \u001b[0;36m<module>\u001b[0;34m()\u001b[0m\n\u001b[1;32m     40\u001b[0m \u001b[1;33m\u001b[0m\u001b[0m\n\u001b[1;32m     41\u001b[0m \u001b[1;31m# add local sympy to the module path\u001b[0m\u001b[1;33m\u001b[0m\u001b[1;33m\u001b[0m\u001b[0m\n\u001b[0;32m---> 42\u001b[0;31m \u001b[0mthis_file\u001b[0m \u001b[1;33m=\u001b[0m \u001b[0mos\u001b[0m\u001b[1;33m.\u001b[0m\u001b[0mpath\u001b[0m\u001b[1;33m.\u001b[0m\u001b[0mabspath\u001b[0m\u001b[1;33m(\u001b[0m\u001b[0m__file__\u001b[0m\u001b[1;33m)\u001b[0m\u001b[1;33m\u001b[0m\u001b[0m\n\u001b[0m\u001b[1;32m     43\u001b[0m \u001b[0msympy_dir\u001b[0m \u001b[1;33m=\u001b[0m \u001b[0mos\u001b[0m\u001b[1;33m.\u001b[0m\u001b[0mpath\u001b[0m\u001b[1;33m.\u001b[0m\u001b[0mjoin\u001b[0m\u001b[1;33m(\u001b[0m\u001b[0mos\u001b[0m\u001b[1;33m.\u001b[0m\u001b[0mpath\u001b[0m\u001b[1;33m.\u001b[0m\u001b[0mdirname\u001b[0m\u001b[1;33m(\u001b[0m\u001b[0mthis_file\u001b[0m\u001b[1;33m)\u001b[0m\u001b[1;33m,\u001b[0m \u001b[1;34m\"..\"\u001b[0m\u001b[1;33m)\u001b[0m\u001b[1;33m\u001b[0m\u001b[0m\n\u001b[1;32m     44\u001b[0m \u001b[0msympy_dir\u001b[0m \u001b[1;33m=\u001b[0m \u001b[0mos\u001b[0m\u001b[1;33m.\u001b[0m\u001b[0mpath\u001b[0m\u001b[1;33m.\u001b[0m\u001b[0mnormpath\u001b[0m\u001b[1;33m(\u001b[0m\u001b[0msympy_dir\u001b[0m\u001b[1;33m)\u001b[0m\u001b[1;33m\u001b[0m\u001b[0m\n",
      "\u001b[0;31mNameError\u001b[0m: name '__file__' is not defined"
     ]
    }
   ],
   "source": [
    "#!/usr/bin/env python\n",
    "from __future__ import print_function\n",
    "\n",
    "DESCRIPTION = \"\"\"\n",
    "Runs all the examples for testing purposes and reports successes and failures\n",
    "to stderr.  An example is marked successful if the running thread does not\n",
    "throw an exception, for threaded examples, such as plotting, one needs to\n",
    "check the stderr messages as well.\n",
    "\"\"\"\n",
    "\n",
    "EPILOG = \"\"\"\n",
    "Example Usage:\n",
    "   When no examples fail:\n",
    "     $ ./all.py > out\n",
    "     SUCCESSFUL:\n",
    "       - beginner.basic\n",
    "       [...]\n",
    "     NO FAILED EXAMPLES\n",
    "     $\n",
    "   When examples fail:\n",
    "     $ ./all.py -w > out\n",
    "     Traceback (most recent call last):\n",
    "       File \"./all.py\", line 111, in run_examples\n",
    "     [...]\n",
    "     SUCCESSFUL:\n",
    "       - beginner.basic\n",
    "       [...]\n",
    "     FAILED:\n",
    "       - intermediate.mplot2D\n",
    "       [...]\n",
    "     $\n",
    "   Obviously, we want to achieve the first result.\n",
    "\"\"\"\n",
    "\n",
    "import imp\n",
    "import optparse\n",
    "import os\n",
    "import sys\n",
    "import traceback\n",
    "\n",
    "# add local sympy to the module path\n",
    "this_file = os.path.abspath(__file__)\n",
    "sympy_dir = os.path.join(os.path.dirname(this_file), \"..\")\n",
    "sympy_dir = os.path.normpath(sympy_dir)\n",
    "sys.path.insert(0, sympy_dir)\n",
    "\n",
    "import sympy\n",
    "\n",
    "TERMINAL_EXAMPLES = [\n",
    "    \"beginner.basic\",\n",
    "    \"beginner.differentiation\",\n",
    "    \"beginner.expansion\",\n",
    "    \"beginner.functions\",\n",
    "    \"beginner.limits_examples\",\n",
    "    \"beginner.precision\",\n",
    "    \"beginner.print_pretty\",\n",
    "    \"beginner.series\",\n",
    "    \"beginner.substitution\",\n",
    "    \"intermediate.coupled_cluster\",\n",
    "    \"intermediate.differential_equations\",\n",
    "    \"intermediate.infinite_1d_box\",\n",
    "    \"intermediate.partial_differential_eqs\",\n",
    "    \"intermediate.trees\",\n",
    "    \"intermediate.vandermonde\",\n",
    "    \"advanced.curvilinear_coordinates\",\n",
    "    \"advanced.dense_coding_example\",\n",
    "    \"advanced.fem\",\n",
    "    \"advanced.gibbs_phenomenon\",\n",
    "    \"advanced.grover_example\",\n",
    "    \"advanced.hydrogen\",\n",
    "    \"advanced.pidigits\",\n",
    "    \"advanced.qft\",\n",
    "    \"advanced.relativity\",\n",
    "]\n",
    "\n",
    "WINDOWED_EXAMPLES = [\n",
    "    \"beginner.plotting_nice_plot\",\n",
    "    \"intermediate.mplot2d\",\n",
    "    \"intermediate.mplot3d\",\n",
    "    \"intermediate.print_gtk\",\n",
    "    \"advanced.autowrap_integrators\",\n",
    "    \"advanced.autowrap_ufuncify\",\n",
    "    \"advanced.pyglet_plotting\",\n",
    "]\n",
    "\n",
    "EXAMPLE_DIR = os.path.dirname(__file__)\n",
    "\n",
    "\n",
    "def __import__(name, globals=None, locals=None, fromlist=None):\n",
    "    \"\"\"An alternative to the import function so that we can import\n",
    "    modules defined as strings.\n",
    "    This code was taken from: http://docs.python.org/lib/examples-imp.html\n",
    "    \"\"\"\n",
    "    # Fast path: see if the module has already been imported.\n",
    "    try:\n",
    "        return sys.modules[name]\n",
    "    except KeyError:\n",
    "        pass\n",
    "\n",
    "    # If any of the following calls raises an exception,\n",
    "    # there's a problem we can't handle -- let the caller handle it.\n",
    "    module_name = name.split('.')[-1]\n",
    "    module_path = os.path.join(EXAMPLE_DIR, *name.split('.')[:-1])\n",
    "\n",
    "    fp, pathname, description = imp.find_module(module_name, [module_path])\n",
    "\n",
    "    try:\n",
    "        return imp.load_module(module_name, fp, pathname, description)\n",
    "    finally:\n",
    "        # Since we may exit via an exception, close fp explicitly.\n",
    "        if fp:\n",
    "            fp.close()\n",
    "\n",
    "\n",
    "def load_example_module(example):\n",
    "    \"\"\"Loads modules based upon the given package name\"\"\"\n",
    "    mod = __import__(example)\n",
    "    return mod\n",
    "\n",
    "\n",
    "def run_examples(windowed=False, quiet=False, summary=True):\n",
    "    \"\"\"Run all examples in the list of modules.\n",
    "    Returns a boolean value indicating whether all the examples were\n",
    "    successful.\n",
    "    \"\"\"\n",
    "    successes = []\n",
    "    failures = []\n",
    "    examples = TERMINAL_EXAMPLES\n",
    "    if windowed:\n",
    "        examples += WINDOWED_EXAMPLES\n",
    "\n",
    "    if quiet:\n",
    "        from sympy.utilities.runtests import PyTestReporter\n",
    "        reporter = PyTestReporter()\n",
    "        reporter.write(\"Testing Examples\\n\")\n",
    "        reporter.write(\"-\" * reporter.terminal_width)\n",
    "    else:\n",
    "        reporter = None\n",
    "\n",
    "    for example in examples:\n",
    "        if run_example(example, reporter=reporter):\n",
    "            successes.append(example)\n",
    "        else:\n",
    "            failures.append(example)\n",
    "\n",
    "    if summary:\n",
    "        show_summary(successes, failures, reporter=reporter)\n",
    "\n",
    "    return len(failures) == 0\n",
    "\n",
    "\n",
    "def run_example(example, reporter=None):\n",
    "    \"\"\"Run a specific example.\n",
    "    Returns a boolean value indicating whether the example was successful.\n",
    "    \"\"\"\n",
    "    if reporter:\n",
    "        reporter.write(example)\n",
    "    else:\n",
    "        print(\"=\" * 79)\n",
    "        print(\"Running: \", example)\n",
    "\n",
    "    try:\n",
    "        mod = load_example_module(example)\n",
    "        if reporter:\n",
    "            suppress_output(mod.main)\n",
    "            reporter.write(\"[PASS]\", \"Green\", align=\"right\")\n",
    "        else:\n",
    "            mod.main()\n",
    "        return True\n",
    "    except KeyboardInterrupt as e:\n",
    "        raise e\n",
    "    except:\n",
    "        if reporter:\n",
    "            reporter.write(\"[FAIL]\", \"Red\", align=\"right\")\n",
    "        traceback.print_exc()\n",
    "        return False\n",
    "\n",
    "\n",
    "class DummyFile(object):\n",
    "    def write(self, x):\n",
    "        pass\n",
    "\n",
    "\n",
    "def suppress_output(fn):\n",
    "    \"\"\"Suppresses the output of fn on sys.stdout.\"\"\"\n",
    "    save_stdout = sys.stdout\n",
    "    try:\n",
    "        sys.stdout = DummyFile()\n",
    "        fn()\n",
    "    finally:\n",
    "        sys.stdout = save_stdout\n",
    "\n",
    "\n",
    "def show_summary(successes, failures, reporter=None):\n",
    "    \"\"\"Shows a summary detailing which examples were successful and which failed.\"\"\"\n",
    "    if reporter:\n",
    "        reporter.write(\"-\" * reporter.terminal_width)\n",
    "        if failures:\n",
    "            reporter.write(\"FAILED:\\n\", \"Red\")\n",
    "            for example in failures:\n",
    "                reporter.write(\"  %s\\n\" % example)\n",
    "        else:\n",
    "            reporter.write(\"ALL EXAMPLES PASSED\\n\", \"Green\")\n",
    "    else:\n",
    "        if successes:\n",
    "            print(\"SUCCESSFUL: \", file=sys.stderr)\n",
    "            for example in successes:\n",
    "                print(\"  -\", example, file=sys.stderr)\n",
    "        else:\n",
    "            print(\"NO SUCCESSFUL EXAMPLES\", file=sys.stderr)\n",
    "\n",
    "        if failures:\n",
    "            print(\"FAILED: \", file=sys.stderr)\n",
    "            for example in failures:\n",
    "                print(\"  -\", example, file=sys.stderr)\n",
    "        else:\n",
    "            print(\"NO FAILED EXAMPLES\", file=sys.stderr)\n",
    "\n",
    "\n",
    "def main(*args, **kws):\n",
    "    \"\"\"Main script runner\"\"\"\n",
    "    parser = optparse.OptionParser()\n",
    "    parser.add_option('-w', '--windowed', action=\"store_true\", dest=\"windowed\",\n",
    "        help=\"also run examples requiring windowed environment\")\n",
    "    parser.add_option('-q', '--quiet', action=\"store_true\", dest=\"quiet\",\n",
    "        help=\"runs examples in 'quiet mode' suppressing example output and \\\n",
    "              showing simple status messages.\")\n",
    "    parser.add_option('--no-summary', action=\"store_true\", dest=\"no_summary\",\n",
    "        help=\"hides the summary at the end of testing the examples\")\n",
    "\n",
    "    (options, _) = parser.parse_args()\n",
    "\n",
    "    return 0 if run_examples(windowed=options.windowed, quiet=options.quiet,\n",
    "                             summary=not options.no_summary) else 1\n",
    "\n",
    "\n",
    "if __name__ == \"__main__\":\n",
    "    sys.exit(main(*sys.argv[1:]))"
   ]
  },
  {
   "cell_type": "code",
   "execution_count": 55,
   "metadata": {},
   "outputs": [
    {
     "data": {
      "image/png": "[encoded data removed]",
      "text/plain": [
       "<matplotlib.figure.Figure at 0x1f54ee9a400>"
      ]
     },
     "metadata": {},
     "output_type": "display_data"
    }
   ],
   "source": [
    "import numpy as np\n",
    "import matplotlib.pyplot as plt\n",
    "import pyradbas as pyrb  #pip install pyradbas from an Anacoda command prompt\n",
    "\n",
    "#Defines the mesh\n",
    "x = np.linspace(-1.5, 1.5, 40)\n",
    "x, y = np.meshgrid(x, x)\n",
    "P = np.vstack([x.flatten(), y.flatten()])\n",
    "\n",
    "#Defines the function\n",
    "heart = lambda x,y: np.abs(x**2.+2*(y-0.5*np.sqrt(np.abs(x)))**2.-1)\n",
    "\n",
    "#Evaluates function over every point of the grid\n",
    "V = heart(P[0:1], P[1:])\n",
    "\n",
    "#Plot\n",
    "plt.plot(P[0:1][V<0.2], P[1:][V<0.2], '*r', P[0:1][V>=0.2], P[1:][V>=0.2], 'o')\n",
    "plt.show()"
   ]
  },
  {
   "cell_type": "code",
   "execution_count": null,
   "metadata": {
    "collapsed": true
   },
   "outputs": [],
   "source": []
  }
 ],
 "metadata": {
  "kernelspec": {
   "display_name": "Python 3",
   "language": "python",
   "name": "python3"
  },
  "language_info": {
   "codemirror_mode": {
    "name": "ipython",
    "version": 3
   },
   "file_extension": ".py",
   "mimetype": "text/x-python",
   "name": "python",
   "nbconvert_exporter": "python",
   "pygments_lexer": "ipython3",
   "version": "3.6.0"
  }
 },
 "nbformat": 4,
 "nbformat_minor": 2
}
